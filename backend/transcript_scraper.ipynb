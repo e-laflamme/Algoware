{
 "cells": [
  {
   "cell_type": "code",
   "execution_count": null,
   "metadata": {},
   "outputs": [
    {
     "name": "stderr",
     "output_type": "stream",
     "text": [
      "/Library/Frameworks/Python.framework/Versions/3.10/lib/python3.10/site-packages/tqdm/auto.py:21: TqdmWarning: IProgress not found. Please update jupyter and ipywidgets. See https://ipywidgets.readthedocs.io/en/stable/user_install.html\n",
      "  from .autonotebook import tqdm as notebook_tqdm\n"
     ]
    },
    {
     "name": "stdout",
     "output_type": "stream",
     "text": [
      "/usr/local/bin/python3\n",
      "\n",
      "🔗 Video URL: https://www.youtube.com/watch?v=dQw4w9WgXcQ\n",
      "📝 Summary:\n",
      " The YouTube video is a recording of Rick Astley's song, \"Never Gonna Give You Up.\"  The transcript is largely the lyrics of the song, repeatedly listing the song's famous refrain:  \"Never gonna give you up, never gonna let you down, never gonna run around and desert you.\"  The video likely features the audio and possibly the music video for the song.\n",
      "\n"
     ]
    }
   ],
   "source": [
    "# Run only if not already installed\n",
    "%pip install youtube-transcript-api pytube pandas"
   ]
  },
  {
   "cell_type": "code",
   "execution_count": 2,
   "metadata": {},
   "outputs": [
    {
     "name": "stdout",
     "output_type": "stream",
     "text": [
      "Using Python from: /usr/local/bin/python3\n"
     ]
    }
   ],
   "source": [
    "import re\n",
    "import sys\n",
    "import pandas as pd\n",
    "from pytube import YouTube\n",
    "from youtube_transcript_api import YouTubeTranscriptApi\n",
    "\n",
    "# Confirm which Python environment is running\n",
    "print(f\"Using Python from: {sys.executable}\")"
   ]
  },
  {
   "cell_type": "code",
   "execution_count": 4,
   "metadata": {},
   "outputs": [
    {
     "name": "stdout",
     "output_type": "stream",
     "text": [
      "Loaded 5200 video links\n"
     ]
    },
    {
     "data": {
      "text/html": [
       "<div>\n",
       "<style scoped>\n",
       "    .dataframe tbody tr th:only-of-type {\n",
       "        vertical-align: middle;\n",
       "    }\n",
       "\n",
       "    .dataframe tbody tr th {\n",
       "        vertical-align: top;\n",
       "    }\n",
       "\n",
       "    .dataframe thead th {\n",
       "        text-align: right;\n",
       "    }\n",
       "</style>\n",
       "<table border=\"1\" class=\"dataframe\">\n",
       "  <thead>\n",
       "    <tr style=\"text-align: right;\">\n",
       "      <th></th>\n",
       "      <th>topic</th>\n",
       "      <th>url</th>\n",
       "    </tr>\n",
       "  </thead>\n",
       "  <tbody>\n",
       "    <tr>\n",
       "      <th>0</th>\n",
       "      <td>Finance</td>\n",
       "      <td>https://www.youtube.com/watch?v=IKXiyApvKjI</td>\n",
       "    </tr>\n",
       "    <tr>\n",
       "      <th>1</th>\n",
       "      <td>Finance</td>\n",
       "      <td>https://www.youtube.com/watch?v=4yohVh4qcas</td>\n",
       "    </tr>\n",
       "    <tr>\n",
       "      <th>2</th>\n",
       "      <td>Finance</td>\n",
       "      <td>https://www.youtube.com/watch?v=C_UeYBBogPA</td>\n",
       "    </tr>\n",
       "    <tr>\n",
       "      <th>3</th>\n",
       "      <td>Finance</td>\n",
       "      <td>https://www.youtube.com/watch?v=WEDIj9JBTC8</td>\n",
       "    </tr>\n",
       "    <tr>\n",
       "      <th>4</th>\n",
       "      <td>Finance</td>\n",
       "      <td>https://www.youtube.com/watch?v=Izw-xaVkO0g</td>\n",
       "    </tr>\n",
       "  </tbody>\n",
       "</table>\n",
       "</div>"
      ],
      "text/plain": [
       "     topic                                          url\n",
       "0  Finance  https://www.youtube.com/watch?v=IKXiyApvKjI\n",
       "1  Finance  https://www.youtube.com/watch?v=4yohVh4qcas\n",
       "2  Finance  https://www.youtube.com/watch?v=C_UeYBBogPA\n",
       "3  Finance  https://www.youtube.com/watch?v=WEDIj9JBTC8\n",
       "4  Finance  https://www.youtube.com/watch?v=Izw-xaVkO0g"
      ]
     },
     "execution_count": 4,
     "metadata": {},
     "output_type": "execute_result"
    }
   ],
   "source": [
    "link_df = pd.read_csv(\"../data/youtube_topic_links.csv\")  # make sure this file exists\n",
    "\n",
    "print(f\"Loaded {len(link_df)} video links\")\n",
    "link_df.head()\n"
   ]
  },
  {
   "cell_type": "code",
   "execution_count": 5,
   "metadata": {},
   "outputs": [],
   "source": [
    "def extract_video_id(url):\n",
    "    match = re.search(r\"(?:v=|\\/)([0-9A-Za-z_-]{11})\", url)\n",
    "    return match.group(1) if match else None\n",
    "\n",
    "#extract_video_id(\"https://www.youtube.com/watch?v=dQw4w9WgXcQ\")"
   ]
  },
  {
   "cell_type": "code",
   "execution_count": 6,
   "metadata": {},
   "outputs": [],
   "source": [
    "def get_transcript(video_id):\n",
    "    try:\n",
    "        transcript = YouTubeTranscriptApi.get_transcript(video_id)\n",
    "        return \" \".join([entry['text'] for entry in transcript])\n",
    "    except Exception as e:\n",
    "        print(f\"Transcript Error for {video_id}: {e}\")\n",
    "        return None\n",
    "\n",
    "#get_transcript(\"dQw4w9WgXcQ\")[:300]  # Show only the first 300 characters"
   ]
  },
  {
   "cell_type": "code",
   "execution_count": 7,
   "metadata": {},
   "outputs": [],
   "source": [
    "import requests\n",
    "\n",
    "def get_video_title(url):\n",
    "    oembed_url = f\"https://www.youtube.com/oembed?url={url}&format=json\"\n",
    "    try:\n",
    "        res = requests.get(oembed_url)\n",
    "        res.raise_for_status()\n",
    "        return res.json()['title']\n",
    "    except Exception as e:\n",
    "        print(f\"oEmbed Title Error: {e}\")\n",
    "        return None\n",
    "\n",
    "\n",
    "#get_video_title(\"https://www.youtube.com/watch?v=dQw4w9WgXcQ\")\n"
   ]
  },
  {
   "cell_type": "code",
   "execution_count": null,
   "metadata": {},
   "outputs": [
    {
     "name": "stdout",
     "output_type": "stream",
     "text": [
      "\n",
      "[1] Processing: https://www.youtube.com/watch?v=IKXiyApvKjI (Finance)\n",
      "✅ How much money is in your bank account?  🤔💰  #shor — transcript length: 603 chars\n",
      "\n",
      "[2] Processing: https://www.youtube.com/watch?v=4yohVh4qcas (Finance)\n",
      "✅ EMERGENCY DEBATE: They Lied About The Economy Reco — transcript length: 163724 chars\n",
      "\n",
      "[3] Processing: https://www.youtube.com/watch?v=C_UeYBBogPA (Finance)\n",
      "✅ My honest advice to someone who wants financial fr — transcript length: 17506 chars\n",
      "\n",
      "[4] Processing: https://www.youtube.com/watch?v=WEDIj9JBTC8 (Finance)\n",
      "✅ William Ackman: Everything You Need to Know About  — transcript length: 63176 chars\n",
      "\n",
      "[5] Processing: https://www.youtube.com/watch?v=Izw-xaVkO0g (Finance)\n",
      "✅ 10 Crucial Personal Finance Lessons That Transform — transcript length: 17926 chars\n"
     ]
    }
   ],
   "source": [
    "# Process each row and store data locally\n",
    "data = []\n",
    "\n",
    "for i, row in link_df.iterrows():\n",
    "    topic = row[\"topic\"]\n",
    "    url = row[\"url\"]\n",
    "    print(f\"\\n[{i+1}] Processing: {url} ({topic})\")\n",
    "\n",
    "    video_id = extract_video_id(url)\n",
    "    title = get_video_title(url)\n",
    "    transcript = get_transcript(video_id) if video_id else None\n",
    "\n",
    "    if title and transcript:\n",
    "        print(f\"✅ {title[:50]} — transcript length: {len(transcript)} chars\")\n",
    "        data.append({\n",
    "            \"topic\": topic,\n",
    "            \"url\": url,\n",
    "            \"title\": title,\n",
    "            \"transcript\": transcript\n",
    "        })\n",
    "    else:\n",
    "        print(\"⚠️ Skipped (missing title or transcript)\")\n"
   ]
  },
  {
   "cell_type": "code",
   "execution_count": 14,
   "metadata": {},
   "outputs": [
    {
     "name": "stdout",
     "output_type": "stream",
     "text": [
      "\n",
      "📁 Data saved locally to: youtube_transcripts.csv\n"
     ]
    },
    {
     "data": {
      "text/html": [
       "<div>\n",
       "<style scoped>\n",
       "    .dataframe tbody tr th:only-of-type {\n",
       "        vertical-align: middle;\n",
       "    }\n",
       "\n",
       "    .dataframe tbody tr th {\n",
       "        vertical-align: top;\n",
       "    }\n",
       "\n",
       "    .dataframe thead th {\n",
       "        text-align: right;\n",
       "    }\n",
       "</style>\n",
       "<table border=\"1\" class=\"dataframe\">\n",
       "  <thead>\n",
       "    <tr style=\"text-align: right;\">\n",
       "      <th></th>\n",
       "      <th>topic</th>\n",
       "      <th>url</th>\n",
       "      <th>title</th>\n",
       "      <th>transcript</th>\n",
       "    </tr>\n",
       "  </thead>\n",
       "  <tbody>\n",
       "    <tr>\n",
       "      <th>0</th>\n",
       "      <td>Finance</td>\n",
       "      <td>https://www.youtube.com/watch?v=IKXiyApvKjI</td>\n",
       "      <td>How much money is in your bank account?  🤔💰  #...</td>\n",
       "      <td>how much money is in your bank account zero do...</td>\n",
       "    </tr>\n",
       "    <tr>\n",
       "      <th>1</th>\n",
       "      <td>Finance</td>\n",
       "      <td>https://www.youtube.com/watch?v=4yohVh4qcas</td>\n",
       "      <td>EMERGENCY DEBATE: They Lied About The Economy ...</td>\n",
       "      <td>I'm I'm sick of multi-millionaires telling kid...</td>\n",
       "    </tr>\n",
       "    <tr>\n",
       "      <th>2</th>\n",
       "      <td>Finance</td>\n",
       "      <td>https://www.youtube.com/watch?v=C_UeYBBogPA</td>\n",
       "      <td>My honest advice to someone who wants financia...</td>\n",
       "      <td>this is my honest advice for anyone who wants ...</td>\n",
       "    </tr>\n",
       "    <tr>\n",
       "      <th>3</th>\n",
       "      <td>Finance</td>\n",
       "      <td>https://www.youtube.com/watch?v=WEDIj9JBTC8</td>\n",
       "      <td>William Ackman: Everything You Need to Know Ab...</td>\n",
       "      <td>Hi, I'm Bill Ackman. I'm the CEO of Pershing S...</td>\n",
       "    </tr>\n",
       "    <tr>\n",
       "      <th>4</th>\n",
       "      <td>Finance</td>\n",
       "      <td>https://www.youtube.com/watch?v=Izw-xaVkO0g</td>\n",
       "      <td>10 Crucial Personal Finance Lessons That Trans...</td>\n",
       "      <td>hey guys welcome back to the channel in this v...</td>\n",
       "    </tr>\n",
       "  </tbody>\n",
       "</table>\n",
       "</div>"
      ],
      "text/plain": [
       "     topic                                          url  \\\n",
       "0  Finance  https://www.youtube.com/watch?v=IKXiyApvKjI   \n",
       "1  Finance  https://www.youtube.com/watch?v=4yohVh4qcas   \n",
       "2  Finance  https://www.youtube.com/watch?v=C_UeYBBogPA   \n",
       "3  Finance  https://www.youtube.com/watch?v=WEDIj9JBTC8   \n",
       "4  Finance  https://www.youtube.com/watch?v=Izw-xaVkO0g   \n",
       "\n",
       "                                               title  \\\n",
       "0  How much money is in your bank account?  🤔💰  #...   \n",
       "1  EMERGENCY DEBATE: They Lied About The Economy ...   \n",
       "2  My honest advice to someone who wants financia...   \n",
       "3  William Ackman: Everything You Need to Know Ab...   \n",
       "4  10 Crucial Personal Finance Lessons That Trans...   \n",
       "\n",
       "                                          transcript  \n",
       "0  how much money is in your bank account zero do...  \n",
       "1  I'm I'm sick of multi-millionaires telling kid...  \n",
       "2  this is my honest advice for anyone who wants ...  \n",
       "3  Hi, I'm Bill Ackman. I'm the CEO of Pershing S...  \n",
       "4  hey guys welcome back to the channel in this v...  "
      ]
     },
     "execution_count": 14,
     "metadata": {},
     "output_type": "execute_result"
    }
   ],
   "source": [
    "# Save collected data to CSV\n",
    "df = pd.DataFrame(data)\n",
    "csv_filename = \"youtube_transcripts.csv\"\n",
    "df.to_csv(csv_filename, index=False)\n",
    "print(f\"\\n📁 Data saved locally to: {csv_filename}\")\n",
    "df.head()\n"
   ]
  }
 ],
 "metadata": {
  "kernelspec": {
   "display_name": "Python 3",
   "language": "python",
   "name": "python3"
  },
  "language_info": {
   "codemirror_mode": {
    "name": "ipython",
    "version": 3
   },
   "file_extension": ".py",
   "mimetype": "text/x-python",
   "name": "python",
   "nbconvert_exporter": "python",
   "pygments_lexer": "ipython3",
   "version": "3.10.6"
  }
 },
 "nbformat": 4,
 "nbformat_minor": 2
}
