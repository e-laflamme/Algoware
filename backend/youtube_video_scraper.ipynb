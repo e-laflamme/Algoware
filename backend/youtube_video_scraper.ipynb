{
 "cells": [
  {
   "cell_type": "code",
   "execution_count": 1,
   "metadata": {},
   "outputs": [],
   "source": [
    "# %pip install google-api-python-client\n",
    "# %pip install python-dotenv"
   ]
  },
  {
   "cell_type": "code",
   "execution_count": 2,
   "metadata": {},
   "outputs": [
    {
     "name": "stdout",
     "output_type": "stream",
     "text": [
      "Both API keys loaded from .env\n"
     ]
    }
   ],
   "source": [
    "from googleapiclient.discovery import build\n",
    "import pandas as pd\n",
    "import time\n",
    "import os\n",
    "from dotenv import load_dotenv\n",
    "\n",
    "# load environment variables from .env\n",
    "load_dotenv()\n",
    "\n",
    "# get API key from environment\n",
    "API_KEY_1 = os.getenv(\"YOUTUBE_API_KEY_1\")\n",
    "API_KEY_2 = os.getenv(\"YOUTUBE_API_KEY_2\")\n",
    "\n",
    "# y API config\n",
    "YOUTUBE_API_SERVICE_NAME = \"youtube\"\n",
    "YOUTUBE_API_VERSION = \"v3\"\n",
    "\n",
    "# confirm key status\n",
    "if API_KEY_1 and API_KEY_2:\n",
    "    print(\"Both API keys loaded from .env\")\n",
    "else:\n",
    "    print(\"One or both API keys are missing. Check your .env file.\")"
   ]
  },
  {
   "cell_type": "code",
   "execution_count": 3,
   "metadata": {},
   "outputs": [
    {
     "name": "stdout",
     "output_type": "stream",
     "text": [
      "Loaded 26 topics.\n"
     ]
    }
   ],
   "source": [
    "TOPICS = [\n",
    "    # Economy & Society\n",
    "    \"Finance\", \"Economics\", \"Healthcare\", \"Education\", \"Free Speech\", \"Gender Identity\",\n",
    "\n",
    "    # Tech & Science\n",
    "    \"Technology\", \"Artificial Intelligence\", \"Data Privacy\", \"Space Exploration\", \"Environmental Science\",\n",
    "\n",
    "    # Health & Wellness\n",
    "    \"Mental Health\", \"Physical Fitness\", \"Diet and Nutrition\", \"Veganism\", \"Parenting\",\n",
    "\n",
    "    # Culture & Lifestyle\n",
    "    \"Religion\", \"Social Media\", \"Entertainment\", \"Celebrity Culture\", \"Relationships\",\n",
    "\n",
    "    # Pop Content\n",
    "    \"Gaming\", \"Sports\", \"Music\", \"Movies and TV Shows\", \"Fashion and Style\"\n",
    "]\n",
    "\n",
    "print(f\"Loaded {len(TOPICS)} topics.\")"
   ]
  },
  {
   "cell_type": "code",
   "execution_count": 4,
   "metadata": {},
   "outputs": [
    {
     "name": "stdout",
     "output_type": "stream",
     "text": [
      "Search function ready for multiple API keys.\n"
     ]
    }
   ],
   "source": [
    "def get_top_video_urls(query, api_key, max_results=200):\n",
    "    youtube = build(\"youtube\", \"v3\", developerKey=api_key)\n",
    "    video_urls = []\n",
    "    next_page_token = None\n",
    "\n",
    "    while len(video_urls) < max_results:\n",
    "        search_response = youtube.search().list(\n",
    "            q=query,\n",
    "            type=\"video\",\n",
    "            part=\"id\",\n",
    "            maxResults=min(50, max_results - len(video_urls)),\n",
    "            pageToken=next_page_token\n",
    "        ).execute()\n",
    "\n",
    "        for item in search_response[\"items\"]:\n",
    "            video_id = item[\"id\"][\"videoId\"]\n",
    "            video_url = f\"https://www.youtube.com/watch?v={video_id}\"\n",
    "            video_urls.append(video_url)\n",
    "\n",
    "        next_page_token = search_response.get(\"nextPageToken\")\n",
    "        if not next_page_token:\n",
    "            break\n",
    "\n",
    "        time.sleep(1)  # To avoid rate limit\n",
    "\n",
    "    return video_urls\n",
    "\n",
    "print(\"Search function ready for multiple API keys.\")"
   ]
  },
  {
   "cell_type": "code",
   "execution_count": 7,
   "metadata": {},
   "outputs": [
    {
     "name": "stdout",
     "output_type": "stream",
     "text": [
      "[1/26] Collecting videos for: Finance using API_KEY_1\n",
      "Got 200 videos for Finance\n",
      "[2/26] Collecting videos for: Economics using API_KEY_1\n",
      "Got 200 videos for Economics\n",
      "[3/26] Collecting videos for: Healthcare using API_KEY_1\n",
      "Got 200 videos for Healthcare\n",
      "[4/26] Collecting videos for: Education using API_KEY_1\n",
      "Got 200 videos for Education\n",
      "[5/26] Collecting videos for: Free Speech using API_KEY_1\n",
      "Got 200 videos for Free Speech\n",
      "[6/26] Collecting videos for: Gender Identity using API_KEY_1\n",
      "Got 200 videos for Gender Identity\n",
      "[7/26] Collecting videos for: Technology using API_KEY_1\n",
      "Got 200 videos for Technology\n",
      "[8/26] Collecting videos for: Artificial Intelligence using API_KEY_1\n",
      "Got 200 videos for Artificial Intelligence\n",
      "[9/26] Collecting videos for: Data Privacy using API_KEY_1\n",
      "Got 200 videos for Data Privacy\n",
      "[10/26] Collecting videos for: Space Exploration using API_KEY_1\n",
      "Got 200 videos for Space Exploration\n",
      "[11/26] Collecting videos for: Environmental Science using API_KEY_1\n",
      "Got 200 videos for Environmental Science\n",
      "[12/26] Collecting videos for: Mental Health using API_KEY_1\n",
      "Got 200 videos for Mental Health\n",
      "[13/26] Collecting videos for: Physical Fitness using API_KEY_1\n",
      "Got 200 videos for Physical Fitness\n",
      "[14/26] Collecting videos for: Diet and Nutrition using API_KEY_1\n",
      "Got 200 videos for Diet and Nutrition\n",
      "[15/26] Collecting videos for: Veganism using API_KEY_1\n",
      "Got 200 videos for Veganism\n",
      "[16/26] Collecting videos for: Parenting using API_KEY_2\n",
      "Got 200 videos for Parenting\n",
      "[17/26] Collecting videos for: Religion using API_KEY_2\n",
      "Got 200 videos for Religion\n",
      "[18/26] Collecting videos for: Social Media using API_KEY_2\n",
      "Got 200 videos for Social Media\n",
      "[19/26] Collecting videos for: Entertainment using API_KEY_2\n",
      "Got 200 videos for Entertainment\n",
      "[20/26] Collecting videos for: Celebrity Culture using API_KEY_2\n",
      "Got 200 videos for Celebrity Culture\n",
      "[21/26] Collecting videos for: Relationships using API_KEY_2\n",
      "Got 200 videos for Relationships\n",
      "[22/26] Collecting videos for: Gaming using API_KEY_2\n",
      "Got 200 videos for Gaming\n",
      "[23/26] Collecting videos for: Sports using API_KEY_2\n",
      "Got 200 videos for Sports\n",
      "[24/26] Collecting videos for: Music using API_KEY_2\n",
      "Got 200 videos for Music\n",
      "[25/26] Collecting videos for: Movies and TV Shows using API_KEY_2\n",
      "Got 200 videos for Movies and TV Shows\n",
      "[26/26] Collecting videos for: Fashion and Style using API_KEY_2\n",
      "Got 200 videos for Fashion and Style\n",
      "\n",
      "Done collecting. Total videos collected: 5200\n"
     ]
    }
   ],
   "source": [
    "all_data = []\n",
    "\n",
    "for i, topic in enumerate(TOPICS):\n",
    "    # use key 1 for first 15 topics, key 2 for the rest\n",
    "    api_key = API_KEY_1 if i < 15 else API_KEY_2\n",
    "    print(f\"[{i+1}/{len(TOPICS)}] Collecting videos for: {topic} using {'API_KEY_1' if i < 15 else 'API_KEY_2'}\")\n",
    "    \n",
    "    try:\n",
    "        urls = get_top_video_urls(topic, api_key, max_results=200)\n",
    "        print(f\"Got {len(urls)} videos for {topic}\")\n",
    "        for url in urls:\n",
    "            all_data.append({\"topic\": topic, \"url\": url})\n",
    "    except Exception as e:\n",
    "        print(f\"Failed to fetch for {topic}: {str(e)}\")\n",
    "\n",
    "print(f\"\\nDone collecting. Total videos collected: {len(all_data)}\")"
   ]
  },
  {
   "cell_type": "code",
   "execution_count": 9,
   "metadata": {},
   "outputs": [
    {
     "name": "stdout",
     "output_type": "stream",
     "text": [
      "Saved all video links to ../data/youtube_topic_links.csv\n"
     ]
    },
    {
     "data": {
      "text/html": [
       "<div>\n",
       "<style scoped>\n",
       "    .dataframe tbody tr th:only-of-type {\n",
       "        vertical-align: middle;\n",
       "    }\n",
       "\n",
       "    .dataframe tbody tr th {\n",
       "        vertical-align: top;\n",
       "    }\n",
       "\n",
       "    .dataframe thead th {\n",
       "        text-align: right;\n",
       "    }\n",
       "</style>\n",
       "<table border=\"1\" class=\"dataframe\">\n",
       "  <thead>\n",
       "    <tr style=\"text-align: right;\">\n",
       "      <th></th>\n",
       "      <th>topic</th>\n",
       "      <th>url</th>\n",
       "    </tr>\n",
       "  </thead>\n",
       "  <tbody>\n",
       "    <tr>\n",
       "      <th>0</th>\n",
       "      <td>Finance</td>\n",
       "      <td>https://www.youtube.com/watch?v=IKXiyApvKjI</td>\n",
       "    </tr>\n",
       "    <tr>\n",
       "      <th>1</th>\n",
       "      <td>Finance</td>\n",
       "      <td>https://www.youtube.com/watch?v=4yohVh4qcas</td>\n",
       "    </tr>\n",
       "    <tr>\n",
       "      <th>2</th>\n",
       "      <td>Finance</td>\n",
       "      <td>https://www.youtube.com/watch?v=C_UeYBBogPA</td>\n",
       "    </tr>\n",
       "    <tr>\n",
       "      <th>3</th>\n",
       "      <td>Finance</td>\n",
       "      <td>https://www.youtube.com/watch?v=WEDIj9JBTC8</td>\n",
       "    </tr>\n",
       "    <tr>\n",
       "      <th>4</th>\n",
       "      <td>Finance</td>\n",
       "      <td>https://www.youtube.com/watch?v=Izw-xaVkO0g</td>\n",
       "    </tr>\n",
       "  </tbody>\n",
       "</table>\n",
       "</div>"
      ],
      "text/plain": [
       "     topic                                          url\n",
       "0  Finance  https://www.youtube.com/watch?v=IKXiyApvKjI\n",
       "1  Finance  https://www.youtube.com/watch?v=4yohVh4qcas\n",
       "2  Finance  https://www.youtube.com/watch?v=C_UeYBBogPA\n",
       "3  Finance  https://www.youtube.com/watch?v=WEDIj9JBTC8\n",
       "4  Finance  https://www.youtube.com/watch?v=Izw-xaVkO0g"
      ]
     },
     "execution_count": 9,
     "metadata": {},
     "output_type": "execute_result"
    }
   ],
   "source": [
    "df = pd.DataFrame(all_data)\n",
    "csv_filename = \"../data/youtube_topic_links.csv\"\n",
    "df.to_csv(csv_filename, index=False)\n",
    "\n",
    "print(f\"Saved all video links to {csv_filename}\")\n",
    "df.head()"
   ]
  },
  {
   "cell_type": "code",
   "execution_count": null,
   "metadata": {},
   "outputs": [],
   "source": [
    "# optional quick test with one topic\n",
    "\n",
    "# test_topic = \"Gaming\"\n",
    "# test_urls = get_top_video_urls(test_topic, max_results=10)\n",
    "# print(f\"🎮 Sample links for {test_topic}:\")\n",
    "# for url in test_urls:\n",
    "#     print(url)"
   ]
  }
 ],
 "metadata": {
  "kernelspec": {
   "display_name": "Python 3",
   "language": "python",
   "name": "python3"
  },
  "language_info": {
   "codemirror_mode": {
    "name": "ipython",
    "version": 3
   },
   "file_extension": ".py",
   "mimetype": "text/x-python",
   "name": "python",
   "nbconvert_exporter": "python",
   "pygments_lexer": "ipython3",
   "version": "3.13.1"
  }
 },
 "nbformat": 4,
 "nbformat_minor": 2
}
